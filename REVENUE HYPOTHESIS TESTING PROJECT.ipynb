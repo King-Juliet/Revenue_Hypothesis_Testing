{
 "cells": [
  {
   "cell_type": "markdown",
   "id": "cea120a4",
   "metadata": {},
   "source": [
    "# TASK\n",
    "\n",
    "A site launched an A/B test in order to increase income generated. As the data scientist in the company, analyze the data and help the management decide whether to use the site's new design or retain the old one, based on statistical tests."
   ]
  },
  {
   "cell_type": "markdown",
   "id": "0d90b012",
   "metadata": {},
   "source": [
    "# IMPORT LIBRARIES"
   ]
  },
  {
   "cell_type": "code",
   "execution_count": 50,
   "id": "b2b95565",
   "metadata": {},
   "outputs": [],
   "source": [
    "import pandas as pd\n",
    "import numpy as np\n",
    "\n",
    "import matplotlib.pyplot as plt\n",
    "import seaborn as sns\n",
    "\n",
    "import statsmodels.stats.api as sms\n",
    "from statsmodels.stats.proportion import proportions_ztest\n",
    "import scipy.stats as stats\n",
    "from scipy.stats import ttest_1samp\n",
    "from scipy.stats import shapiro\n",
    "from scipy.stats import levene\n",
    "from scipy.stats import ttest_ind\n",
    "from scipy.stats import mannwhitneyu\n",
    "from scipy.stats import pearsonr\n",
    "from scipy.stats import spearmanr\n",
    "from scipy.stats import kendalltau\n",
    "from scipy.stats import f_oneway\n",
    "from scipy.stats import kruskal\n",
    "from scipy.stats import normaltest\n"
   ]
  },
  {
   "cell_type": "markdown",
   "id": "88a6a5dc",
   "metadata": {},
   "source": [
    "# READ FILES"
   ]
  },
  {
   "cell_type": "code",
   "execution_count": 24,
   "id": "f2ccda74",
   "metadata": {},
   "outputs": [
    {
     "data": {
      "text/html": [
       "<div>\n",
       "<style scoped>\n",
       "    .dataframe tbody tr th:only-of-type {\n",
       "        vertical-align: middle;\n",
       "    }\n",
       "\n",
       "    .dataframe tbody tr th {\n",
       "        vertical-align: top;\n",
       "    }\n",
       "\n",
       "    .dataframe thead th {\n",
       "        text-align: right;\n",
       "    }\n",
       "</style>\n",
       "<table border=\"1\" class=\"dataframe\">\n",
       "  <thead>\n",
       "    <tr style=\"text-align: right;\">\n",
       "      <th></th>\n",
       "      <th>USER_ID</th>\n",
       "      <th>VARIANT_NAME</th>\n",
       "      <th>REVENUE</th>\n",
       "    </tr>\n",
       "  </thead>\n",
       "  <tbody>\n",
       "    <tr>\n",
       "      <th>0</th>\n",
       "      <td>737</td>\n",
       "      <td>variant</td>\n",
       "      <td>0.0</td>\n",
       "    </tr>\n",
       "    <tr>\n",
       "      <th>1</th>\n",
       "      <td>2423</td>\n",
       "      <td>control</td>\n",
       "      <td>0.0</td>\n",
       "    </tr>\n",
       "    <tr>\n",
       "      <th>2</th>\n",
       "      <td>9411</td>\n",
       "      <td>control</td>\n",
       "      <td>0.0</td>\n",
       "    </tr>\n",
       "    <tr>\n",
       "      <th>3</th>\n",
       "      <td>7311</td>\n",
       "      <td>control</td>\n",
       "      <td>0.0</td>\n",
       "    </tr>\n",
       "    <tr>\n",
       "      <th>4</th>\n",
       "      <td>6174</td>\n",
       "      <td>variant</td>\n",
       "      <td>0.0</td>\n",
       "    </tr>\n",
       "    <tr>\n",
       "      <th>...</th>\n",
       "      <td>...</td>\n",
       "      <td>...</td>\n",
       "      <td>...</td>\n",
       "    </tr>\n",
       "    <tr>\n",
       "      <th>9995</th>\n",
       "      <td>1981</td>\n",
       "      <td>control</td>\n",
       "      <td>0.0</td>\n",
       "    </tr>\n",
       "    <tr>\n",
       "      <th>9996</th>\n",
       "      <td>502</td>\n",
       "      <td>variant</td>\n",
       "      <td>0.0</td>\n",
       "    </tr>\n",
       "    <tr>\n",
       "      <th>9997</th>\n",
       "      <td>9214</td>\n",
       "      <td>variant</td>\n",
       "      <td>0.0</td>\n",
       "    </tr>\n",
       "    <tr>\n",
       "      <th>9998</th>\n",
       "      <td>7741</td>\n",
       "      <td>control</td>\n",
       "      <td>0.0</td>\n",
       "    </tr>\n",
       "    <tr>\n",
       "      <th>9999</th>\n",
       "      <td>9468</td>\n",
       "      <td>control</td>\n",
       "      <td>0.0</td>\n",
       "    </tr>\n",
       "  </tbody>\n",
       "</table>\n",
       "<p>10000 rows × 3 columns</p>\n",
       "</div>"
      ],
      "text/plain": [
       "      USER_ID VARIANT_NAME  REVENUE\n",
       "0         737      variant      0.0\n",
       "1        2423      control      0.0\n",
       "2        9411      control      0.0\n",
       "3        7311      control      0.0\n",
       "4        6174      variant      0.0\n",
       "...       ...          ...      ...\n",
       "9995     1981      control      0.0\n",
       "9996      502      variant      0.0\n",
       "9997     9214      variant      0.0\n",
       "9998     7741      control      0.0\n",
       "9999     9468      control      0.0\n",
       "\n",
       "[10000 rows x 3 columns]"
      ]
     },
     "execution_count": 24,
     "metadata": {},
     "output_type": "execute_result"
    }
   ],
   "source": [
    "Data = pd.read_csv('AB_Test_Results.csv')\n",
    "Data"
   ]
  },
  {
   "cell_type": "markdown",
   "id": "25f24557",
   "metadata": {},
   "source": [
    "# OVERVIEW OF DATASET"
   ]
  },
  {
   "cell_type": "markdown",
   "id": "ca26f599",
   "metadata": {},
   "source": [
    "# Dataset Information"
   ]
  },
  {
   "cell_type": "code",
   "execution_count": 25,
   "id": "3408a94d",
   "metadata": {},
   "outputs": [
    {
     "name": "stdout",
     "output_type": "stream",
     "text": [
      "<class 'pandas.core.frame.DataFrame'>\n",
      "RangeIndex: 10000 entries, 0 to 9999\n",
      "Data columns (total 3 columns):\n",
      " #   Column        Non-Null Count  Dtype  \n",
      "---  ------        --------------  -----  \n",
      " 0   USER_ID       10000 non-null  int64  \n",
      " 1   VARIANT_NAME  10000 non-null  object \n",
      " 2   REVENUE       10000 non-null  float64\n",
      "dtypes: float64(1), int64(1), object(1)\n",
      "memory usage: 234.5+ KB\n"
     ]
    }
   ],
   "source": [
    "Data.info()"
   ]
  },
  {
   "cell_type": "markdown",
   "id": "2bdcaf7e",
   "metadata": {},
   "source": [
    "# Missing Values"
   ]
  },
  {
   "cell_type": "code",
   "execution_count": 26,
   "id": "a333499b",
   "metadata": {},
   "outputs": [
    {
     "data": {
      "text/plain": [
       "USER_ID         0.0\n",
       "VARIANT_NAME    0.0\n",
       "REVENUE         0.0\n",
       "dtype: float64"
      ]
     },
     "execution_count": 26,
     "metadata": {},
     "output_type": "execute_result"
    }
   ],
   "source": [
    "# Define function that checks for percentage missing values in the dataset\n",
    "\n",
    "def nan_checker(data):\n",
    "    \"\"\"\n",
    "    This function checks and returns the percentage of missing values in the DataFrame\n",
    "    \n",
    "    Args:\n",
    "        data: Pandas DataFrame.\n",
    "        \n",
    "        \"\"\"\n",
    "    Total = data.isnull().sum().sort_values(ascending = False)\n",
    "    Percent = data.isnull().sum()/data.isnull().count()*100\n",
    "    return Percent\n",
    "\n",
    "#Use function on dataframe\n",
    "\n",
    "nan_checker(Data)"
   ]
  },
  {
   "cell_type": "markdown",
   "id": "e0a6c2c2",
   "metadata": {},
   "source": [
    "# Check Uniqueness Of Columns"
   ]
  },
  {
   "cell_type": "code",
   "execution_count": 27,
   "id": "464c1114",
   "metadata": {},
   "outputs": [],
   "source": [
    "# VARIANT_NAME Column"
   ]
  },
  {
   "cell_type": "code",
   "execution_count": 28,
   "id": "cbba0eed",
   "metadata": {},
   "outputs": [
    {
     "data": {
      "text/plain": [
       "2"
      ]
     },
     "execution_count": 28,
     "metadata": {},
     "output_type": "execute_result"
    }
   ],
   "source": [
    "Data['VARIANT_NAME'].nunique()"
   ]
  },
  {
   "cell_type": "code",
   "execution_count": 29,
   "id": "0a11853d",
   "metadata": {},
   "outputs": [],
   "source": [
    "# REVENUE column"
   ]
  },
  {
   "cell_type": "code",
   "execution_count": 30,
   "id": "42378d67",
   "metadata": {},
   "outputs": [
    {
     "data": {
      "text/plain": [
       "101"
      ]
     },
     "execution_count": 30,
     "metadata": {},
     "output_type": "execute_result"
    }
   ],
   "source": [
    "Data['REVENUE'].nunique()"
   ]
  },
  {
   "cell_type": "code",
   "execution_count": 31,
   "id": "9ad91211",
   "metadata": {},
   "outputs": [],
   "source": [
    "# USER_ID"
   ]
  },
  {
   "cell_type": "code",
   "execution_count": 32,
   "id": "5b559ba8",
   "metadata": {},
   "outputs": [
    {
     "data": {
      "text/plain": [
       "6324"
      ]
     },
     "execution_count": 32,
     "metadata": {},
     "output_type": "execute_result"
    }
   ],
   "source": [
    "Data['USER_ID'].nunique()"
   ]
  },
  {
   "cell_type": "markdown",
   "id": "0fc835f9",
   "metadata": {},
   "source": [
    "# Keep and use data where user_id belongs to one group\n",
    "\n",
    "Remove USER_ID who have two groups.
   ]
  },
  {
   "cell_type": "code",
   "execution_count": 33,
   "id": "73bc26c7",
   "metadata": {},
   "outputs": [
    {
     "data": {
      "text/plain": [
       "USER_ID\n",
       "2       True\n",
       "4       True\n",
       "5       True\n",
       "6       True\n",
       "9       True\n",
       "        ... \n",
       "9990    True\n",
       "9992    True\n",
       "9993    True\n",
       "9995    True\n",
       "9998    True\n",
       "Name: VARIANT_NAME, Length: 4783, dtype: bool"
      ]
     },
     "execution_count": 33,
     "metadata": {},
     "output_type": "execute_result"
    }
   ],
   "source": [
    "unique = (Data.groupby('USER_ID')['VARIANT_NAME'].nunique() == 1)\n",
    "\n",
    "Unique = unique[unique]\n",
    "\n",
    "Unique"
   ]
  },
  {
   "cell_type": "code",
   "execution_count": 34,
   "id": "f39dbdac",
   "metadata": {},
   "outputs": [],
   "source": [
    "#Data with users belonging to one group\n",
    "# -- USER_ID_nunique data\n",
    "\n",
    "Data = Data[Data['USER_ID'].isin(Unique.index)]"
   ]
  },
  {
   "cell_type": "code",
   "execution_count": 35,
   "id": "d76f1314",
   "metadata": {},
   "outputs": [
    {
     "data": {
      "text/plain": [
       "(6070, 3)"
      ]
     },
     "execution_count": 35,
     "metadata": {},
     "output_type": "execute_result"
    }
   ],
   "source": [
    "Data.shape"
   ]
  },
  {
   "cell_type": "markdown",
   "id": "1a305561",
   "metadata": {},
   "source": [
    "# OUTLIERS"
   ]
  },
  {
   "cell_type": "code",
   "execution_count": 36,
   "id": "0a2be830",
   "metadata": {},
   "outputs": [],
   "source": [
    "def outlier_detector(DF, col):\n",
    "    \n",
    "    \"\"\"\n",
    "    \n",
    "    This function returns values that lie at a great distance from the rest of the values in the data. This is outlier/anomaly\n",
    "    \n",
    "    Args:\n",
    "    \n",
    "    DF : Pandas DataFrame of interest\n",
    "    \n",
    "    col: Column holding datapoints whose outliers are to be gotten. The column name should be passed in as string.\n",
    "    \n",
    "    \"\"\"\n",
    "    \n",
    "    #Get percentiles\n",
    "    percentiles25 = DF[col].quantile(0.25)\n",
    "    percentiles75 = DF[col].quantile(0.75)\n",
    "    \n",
    "    #Get interquartile value\n",
    "    IQR = percentiles75 - percentiles25\n",
    "    \n",
    "    #Get upper and lower limits\n",
    "    upperbound = percentiles75 + 1.5*IQR\n",
    "    lowerbound = percentiles25 - 1.5*IQR\n",
    "    \n",
    "    #Filter DataFrame to find outliers\n",
    "    return DF[(DF[col] > upperbound)|(DF[col] < lowerbound )]\n",
    "    "
   ]
  },
  {
   "cell_type": "code",
   "execution_count": 37,
   "id": "e6b40610",
   "metadata": {},
   "outputs": [
    {
     "data": {
      "text/html": [
       "<div>\n",
       "<style scoped>\n",
       "    .dataframe tbody tr th:only-of-type {\n",
       "        vertical-align: middle;\n",
       "    }\n",
       "\n",
       "    .dataframe tbody tr th {\n",
       "        vertical-align: top;\n",
       "    }\n",
       "\n",
       "    .dataframe thead th {\n",
       "        text-align: right;\n",
       "    }\n",
       "</style>\n",
       "<table border=\"1\" class=\"dataframe\">\n",
       "  <thead>\n",
       "    <tr style=\"text-align: right;\">\n",
       "      <th></th>\n",
       "      <th>USER_ID</th>\n",
       "      <th>VARIANT_NAME</th>\n",
       "      <th>REVENUE</th>\n",
       "    </tr>\n",
       "  </thead>\n",
       "  <tbody>\n",
       "    <tr>\n",
       "      <th>49</th>\n",
       "      <td>6429</td>\n",
       "      <td>control</td>\n",
       "      <td>3.25</td>\n",
       "    </tr>\n",
       "    <tr>\n",
       "      <th>139</th>\n",
       "      <td>3331</td>\n",
       "      <td>variant</td>\n",
       "      <td>4.27</td>\n",
       "    </tr>\n",
       "    <tr>\n",
       "      <th>149</th>\n",
       "      <td>8110</td>\n",
       "      <td>variant</td>\n",
       "      <td>1.75</td>\n",
       "    </tr>\n",
       "    <tr>\n",
       "      <th>152</th>\n",
       "      <td>8607</td>\n",
       "      <td>control</td>\n",
       "      <td>2.99</td>\n",
       "    </tr>\n",
       "    <tr>\n",
       "      <th>333</th>\n",
       "      <td>8020</td>\n",
       "      <td>control</td>\n",
       "      <td>9.91</td>\n",
       "    </tr>\n",
       "    <tr>\n",
       "      <th>...</th>\n",
       "      <td>...</td>\n",
       "      <td>...</td>\n",
       "      <td>...</td>\n",
       "    </tr>\n",
       "    <tr>\n",
       "      <th>9466</th>\n",
       "      <td>6623</td>\n",
       "      <td>control</td>\n",
       "      <td>1.78</td>\n",
       "    </tr>\n",
       "    <tr>\n",
       "      <th>9612</th>\n",
       "      <td>1035</td>\n",
       "      <td>control</td>\n",
       "      <td>0.23</td>\n",
       "    </tr>\n",
       "    <tr>\n",
       "      <th>9651</th>\n",
       "      <td>9928</td>\n",
       "      <td>variant</td>\n",
       "      <td>1.25</td>\n",
       "    </tr>\n",
       "    <tr>\n",
       "      <th>9711</th>\n",
       "      <td>6468</td>\n",
       "      <td>control</td>\n",
       "      <td>2.93</td>\n",
       "    </tr>\n",
       "    <tr>\n",
       "      <th>9977</th>\n",
       "      <td>4678</td>\n",
       "      <td>variant</td>\n",
       "      <td>1.01</td>\n",
       "    </tr>\n",
       "  </tbody>\n",
       "</table>\n",
       "<p>97 rows × 3 columns</p>\n",
       "</div>"
      ],
      "text/plain": [
       "      USER_ID VARIANT_NAME  REVENUE\n",
       "49       6429      control     3.25\n",
       "139      3331      variant     4.27\n",
       "149      8110      variant     1.75\n",
       "152      8607      control     2.99\n",
       "333      8020      control     9.91\n",
       "...       ...          ...      ...\n",
       "9466     6623      control     1.78\n",
       "9612     1035      control     0.23\n",
       "9651     9928      variant     1.25\n",
       "9711     6468      control     2.93\n",
       "9977     4678      variant     1.01\n",
       "\n",
       "[97 rows x 3 columns]"
      ]
     },
     "execution_count": 37,
     "metadata": {},
     "output_type": "execute_result"
    }
   ],
   "source": [
    "outlier_detector(Data, 'REVENUE')"
   ]
  },
  {
   "cell_type": "markdown",
   "id": "4e4a5fd5",
   "metadata": {},
   "source": [
    "# Comment:\n",
    "\n",
    "There are 97 users whose revenue don't fall within the normal distribution of revenue generated by other users. Removing these can significantly affect the results of the A/B test, therefore leading to wrong conclusion since their removal could distort statistical properties of the data, such as, mean, standard deviation. These outliers can ony be removed if after investigation, was found to be as result of error in data entry, or other technical issues.\n",
    "\n",
    "For this experiment, the outlier was not as result of any mistake. Hence, the outliers will not be removed."
   ]
  },
  {
   "cell_type": "markdown",
   "id": "20ea60fd",
   "metadata": {},
   "source": [
    "# SUMMARY STATISTICS OF THE TWO GROUPS"
   ]
  },
  {
   "cell_type": "code",
   "execution_count": 38,
   "id": "5825beb0",
   "metadata": {},
   "outputs": [
    {
     "data": {
      "text/html": [
       "<div>\n",
       "<style scoped>\n",
       "    .dataframe tbody tr th:only-of-type {\n",
       "        vertical-align: middle;\n",
       "    }\n",
       "\n",
       "    .dataframe tbody tr th {\n",
       "        vertical-align: top;\n",
       "    }\n",
       "\n",
       "    .dataframe thead tr th {\n",
       "        text-align: left;\n",
       "    }\n",
       "\n",
       "    .dataframe thead tr:last-of-type th {\n",
       "        text-align: right;\n",
       "    }\n",
       "</style>\n",
       "<table border=\"1\" class=\"dataframe\">\n",
       "  <thead>\n",
       "    <tr>\n",
       "      <th></th>\n",
       "      <th>USER_ID</th>\n",
       "      <th colspan=\"4\" halign=\"left\">REVENUE</th>\n",
       "    </tr>\n",
       "    <tr>\n",
       "      <th></th>\n",
       "      <th>nunique</th>\n",
       "      <th>sum</th>\n",
       "      <th>mean</th>\n",
       "      <th>median</th>\n",
       "      <th>count</th>\n",
       "    </tr>\n",
       "    <tr>\n",
       "      <th>VARIANT_NAME</th>\n",
       "      <th></th>\n",
       "      <th></th>\n",
       "      <th></th>\n",
       "      <th></th>\n",
       "      <th></th>\n",
       "    </tr>\n",
       "  </thead>\n",
       "  <tbody>\n",
       "    <tr>\n",
       "      <th>control</th>\n",
       "      <td>2390</td>\n",
       "      <td>470.56</td>\n",
       "      <td>0.155506</td>\n",
       "      <td>0.0</td>\n",
       "      <td>3026</td>\n",
       "    </tr>\n",
       "    <tr>\n",
       "      <th>variant</th>\n",
       "      <td>2393</td>\n",
       "      <td>179.32</td>\n",
       "      <td>0.058909</td>\n",
       "      <td>0.0</td>\n",
       "      <td>3044</td>\n",
       "    </tr>\n",
       "  </tbody>\n",
       "</table>\n",
       "</div>"
      ],
      "text/plain": [
       "             USER_ID REVENUE                       \n",
       "             nunique     sum      mean median count\n",
       "VARIANT_NAME                                       \n",
       "control         2390  470.56  0.155506    0.0  3026\n",
       "variant         2393  179.32  0.058909    0.0  3044"
      ]
     },
     "execution_count": 38,
     "metadata": {},
     "output_type": "execute_result"
    }
   ],
   "source": [
    "Data.groupby('VARIANT_NAME').agg({'USER_ID':'nunique', 'REVENUE': ['sum', 'mean', 'median', 'count']})"
   ]
  },
  {
   "cell_type": "markdown",
   "id": "32823928",
   "metadata": {},
   "source": [
    "# Comment: \n",
    "\n",
    "We see a difference between the revenue generated by both groups. A/B test will be carried out to see if this difference is statistically significant, or if it is by random error or chance"
   ]
  },
  {
   "cell_type": "markdown",
   "id": "5d176c35",
   "metadata": {},
   "source": [
    "# Confidence interval of the revenue value"
   ]
  },
  {
   "cell_type": "code",
   "execution_count": 39,
   "id": "a9ea3a23",
   "metadata": {},
   "outputs": [
    {
     "name": "stdout",
     "output_type": "stream",
     "text": [
      "We are 95% confident that the average revenue per user is between: [0.040, 0.174]\n"
     ]
    }
   ],
   "source": [
    "#Get the weighted average revenue values range\n",
    "(lower_ci, upper_ci) = sms.DescrStatsW(Data['REVENUE']).tconfint_mean()\n",
    "\n",
    "print(f'We are 95% confident that the average revenue per user is between: [{lower_ci:.3f}, {upper_ci:.3f}]')\n"
   ]
  },
  {
   "cell_type": "markdown",
   "id": "bf7d193f",
   "metadata": {},
   "source": [
    "# Comment\n",
    "\n",
    "The weighted mean was used rather than the arithmetic mean, to reduce the impact of outliers that may skew the resultof arithmetic mean, by assigning lowers weights to these outliers, the weighted mean provides a more stable measure of central tendency."
   ]
  },
  {
   "cell_type": "markdown",
   "id": "113da05d",
   "metadata": {},
   "source": [
    "# A/B TEST"
   ]
  },
  {
   "cell_type": "markdown",
   "id": "50ba392e",
   "metadata": {},
   "source": [
    "# Hypothesis\n",
    "\n",
    "Null hypothesis, H0: There is no difference between the income generated by the site's old design and it's new design\n",
    "\n",
    "Alternate hypothesis, H1: There is a difference between the income generated by the site's old design and it's new design \n",
    "\n",
    "\n",
    "# Hypothesis Testing\n",
    "\n",
    "*Assumptions:\n",
    "\n",
    "-- Check normality\n",
    "\n",
    "-- If normal distribution, check homogeneity\n",
    "\n",
    "*Steps:\n",
    "\n",
    "Split and define control group and test group\n",
    "\n",
    "Apply Shapiro test for normality\n",
    "\n",
    "If parametric apply Levene test for homogeneity of variances\n",
    "\n",
    "If parametric and homogeneity of variances present, apply T-test\n",
    "\n",
    "If parametric and homogeneity of variance not present, apply Welch test\n",
    "\n",
    "If non-parametric, apply MannWhitney U Test directly\n",
    "\n",
    "--- Split data into two groups; A and B, since we are doing A/B testing.\n",
    "\n",
    "Group A = control \n",
    "\n",
    "Group B = variant\n"
   ]
  },
  {
   "cell_type": "code",
   "execution_count": 46,
   "id": "2c5527aa",
   "metadata": {},
   "outputs": [],
   "source": [
    "# Split data into two groups. Our target column is 'REVENUE'\n",
    "\n",
    "GroupA = Data[Data['VARIANT_NAME'] == 'control']['REVENUE']\n",
    "\n",
    "GroupB = Data[Data['VARIANT_NAME'] == 'variant']['REVENUE']"
   ]
  },
  {
   "cell_type": "markdown",
   "id": "ab17ad53",
   "metadata": {},
   "source": [
    "# Create a custom function to perform the statistical analysis steps"
   ]
  },
  {
   "cell_type": "code",
   "execution_count": 54,
   "id": "9ad476b4",
   "metadata": {},
   "outputs": [],
   "source": [
    "def AB_Tests(groupA, groupB):\n",
    "    \"\"\"\n",
    "    This function performs statistical analysis on the A and B groups passed\n",
    "    \n",
    "    Args:\n",
    "    \n",
    "    groupA: dataframe containing control group and target column of interest\n",
    "    \n",
    "    groupB: DataFrame containing variant group and target column of interest\n",
    "    \n",
    "    \"\"\"\n",
    "    \n",
    "    #Check for normality\n",
    "    ntA = shapiro(groupA)[1] < 0.05\n",
    "    ntB = shapiro(groupB)[1] < 0.05\n",
    "\n",
    "    if (ntA == False) & (ntB == False):\n",
    "        print('Normal distribution. Parametric test')\n",
    "    \n",
    "        # Check for homogeneity\n",
    "        LeveneTest = stats.levene(GroupA, GroupB)[1] < 0.05\n",
    "        if LeveneTest == False:\n",
    "            print('There is homogeneity of variance')\n",
    "            ttest = stats.ttest_ind(GroupA, GroupB, equal_var = True)[1]\n",
    "        else:\n",
    "            print('There is no homogeneity of variance. Heterogeneous')\n",
    "            ttest = stats.ttest_ind(GroupA, GroupB, equal_var = False)[1]\n",
    "    else:\n",
    "        print('Non-parametric test')\n",
    "        ttest = stats.mannwhitneyu(GroupA, GroupB)[1]\n",
    "    \n",
    "    #Result\n",
    "    Temp_DF = pd.DataFrame({'AB_Hypothesis' : [ttest < 0.05], 'p-value' : [ttest]})\n",
    "    \n",
    "    Temp_DF['Test_Type'] = np.where((ntA == False) & (ntB == False), 'Parametric', 'Non-parametric')\n",
    "    Temp_DF['AB_Hypothesis'] = np.where(Temp_DF['AB_Hypothesis'] == False, 'Fail to reject H0', 'Reject H0')\n",
    "    Temp_DF['Comment'] = np.where(Temp_DF['AB_Hypothesis'] == 'Fail to reject H0', 'A/B groups are similar!', 'A/B groups are not similar!')\n",
    "    \n",
    "    #Columns\n",
    "    if(ntA == False) & (ntB == False):\n",
    "        Temp_DF['Homogeneity'] = np.where(leveneTest == False, 'Yes', 'No')\n",
    "        Temp_DF = [['Test_Type', 'Homogeneity', 'AB_Hypothesis', 'p-value', 'Comment']]\n",
    "    else:\n",
    "        Temp_DF = Temp_DF[['Test_Type', 'AB_Hypothesis', 'p-value', 'Comment']]\n",
    "    \n",
    "    return Temp_DF\n",
    "    \n",
    "    "
   ]
  },
  {
   "cell_type": "code",
   "execution_count": 55,
   "id": "0ba84fde",
   "metadata": {},
   "outputs": [
    {
     "name": "stdout",
     "output_type": "stream",
     "text": [
      "Non-parametric test\n"
     ]
    },
    {
     "data": {
      "text/html": [
       "<div>\n",
       "<style scoped>\n",
       "    .dataframe tbody tr th:only-of-type {\n",
       "        vertical-align: middle;\n",
       "    }\n",
       "\n",
       "    .dataframe tbody tr th {\n",
       "        vertical-align: top;\n",
       "    }\n",
       "\n",
       "    .dataframe thead th {\n",
       "        text-align: right;\n",
       "    }\n",
       "</style>\n",
       "<table border=\"1\" class=\"dataframe\">\n",
       "  <thead>\n",
       "    <tr style=\"text-align: right;\">\n",
       "      <th></th>\n",
       "      <th>Test_Type</th>\n",
       "      <th>AB_Hypothesis</th>\n",
       "      <th>p-value</th>\n",
       "      <th>Comment</th>\n",
       "    </tr>\n",
       "  </thead>\n",
       "  <tbody>\n",
       "    <tr>\n",
       "      <th>0</th>\n",
       "      <td>Non-parametric</td>\n",
       "      <td>Fail to reject H0</td>\n",
       "      <td>0.244417</td>\n",
       "      <td>A/B groups are similar!</td>\n",
       "    </tr>\n",
       "  </tbody>\n",
       "</table>\n",
       "</div>"
      ],
      "text/plain": [
       "        Test_Type      AB_Hypothesis   p-value                  Comment\n",
       "0  Non-parametric  Fail to reject H0  0.244417  A/B groups are similar!"
      ]
     },
     "execution_count": 55,
     "metadata": {},
     "output_type": "execute_result"
    }
   ],
   "source": [
    "AB_Tests(groupA = GroupA, groupB = GroupB)"
   ]
  },
  {
   "cell_type": "code",
   "execution_count": null,
   "id": "a0a0dbc7",
   "metadata": {},
   "outputs": [],
   "source": []
  }
 ],
 "metadata": {
  "kernelspec": {
   "display_name": "Python 3 (ipykernel)",
   "language": "python",
   "name": "python3"
  },
  "language_info": {
   "codemirror_mode": {
    "name": "ipython",
    "version": 3
   },
   "file_extension": ".py",
   "mimetype": "text/x-python",
   "name": "python",
   "nbconvert_exporter": "python",
   "pygments_lexer": "ipython3",
   "version": "3.9.7"
  }
 },
 "nbformat": 4,
 "nbformat_minor": 5
}
